{
 "cells": [
  {
   "cell_type": "markdown",
   "metadata": {},
   "source": [
    "# WeatherPy\n",
    "----\n",
    "\n",
    "#### Note\n",
    "* Instructions have been included for each segment. You do not have to follow them exactly, but they are included to help you think through the steps."
   ]
  },
  {
   "cell_type": "code",
   "execution_count": 1,
   "metadata": {
    "scrolled": true
   },
   "outputs": [],
   "source": [
    "# Dependencies and Setup\n",
    "import matplotlib.pyplot as plt\n",
    "import pandas as pd\n",
    "import numpy as np\n",
    "from pprint import pprint\n",
    "import requests\n",
    "import json\n",
    "import time\n",
    "from scipy import stats\n",
    "from scipy.stats import linregress\n",
    "\n",
    "# Import API key\n",
    "from api_keys import weather_api_key\n",
    "\n",
    "# Incorporated citipy to determine city based on latitude and longitude\n",
    "from citipy import citipy\n",
    "\n",
    "# Output File (CSV)\n",
    "output_data_file = \"output_data/cities.csv\"\n",
    "\n",
    "# Range of latitudes and longitudes\n",
    "lat_range = (-90, 90)\n",
    "lng_range = (-180, 180)"
   ]
  },
  {
   "cell_type": "markdown",
   "metadata": {},
   "source": [
    "## Generate Cities List"
   ]
  },
  {
   "cell_type": "code",
   "execution_count": 2,
   "metadata": {},
   "outputs": [
    {
     "data": {
      "text/plain": [
       "628"
      ]
     },
     "execution_count": 2,
     "metadata": {},
     "output_type": "execute_result"
    }
   ],
   "source": [
    "# List for holding lat_lngs and cities\n",
    "lat_lngs = []\n",
    "cities = []\n",
    "\n",
    "# Create a set of random lat and lng combinations\n",
    "lats = np.random.uniform(lat_range[0], lat_range[1], size=1500)\n",
    "lngs = np.random.uniform(lng_range[0], lng_range[1], size=1500)\n",
    "lat_lngs = zip(lats, lngs)\n",
    "\n",
    "# Identify nearest city for each lat, lng combination\n",
    "for lat_lng in lat_lngs:\n",
    "    city = citipy.nearest_city(lat_lng[0], lat_lng[1]).city_name\n",
    "    \n",
    "    # If the city is unique, then add it to a our cities list\n",
    "    if city not in cities:\n",
    "        cities.append(city)\n",
    "\n",
    "# Print the city count to confirm sufficient count\n",
    "len(cities)"
   ]
  },
  {
   "cell_type": "code",
   "execution_count": 3,
   "metadata": {},
   "outputs": [
    {
     "name": "stdout",
     "output_type": "stream",
     "text": [
      "['andra', 'leningradskiy', 'leh', 'santa lucia', 'mataura', 'cape town', 'dikson', 'ladispoli', 'derzhavinsk', 'kapaa', 'lima', 'bengkulu', 'kiruna', 'jamestown', 'acarau', 'bentiu', 'maldonado', 'tigil', 'pangnirtung', 'arman', 'qaanaaq', 'bredasdorp', 'tilichiki', 'hermanus', 'atuona', 'khatanga', 'albany', 'bilma', 'pevek', 'mercedes', 'punta arenas', 'grand river south east', 'cherskiy', 'sisimiut', 'ribeira grande', 'eyl', 'gat', 'argalasti', 'hilo', 'lasa', 'rikitea', 'sao joao da barra', 'nikolskoye', 'lishui', 'torbay', 'yellowknife', 'taolanaro', 'jumla', 'chokurdakh', 'bluff', 'ancud', 'aloguinsan', 'shimoda', 'constitucion', 'takoradi', 'arlit', 'oktyabrskoye', 'port hedland', 'barentsburg', 'airai', 'saskylakh', 'serro', 'tuktoyaktuk', 'spearfish', 'zhangye', 'busselton', 'mys shmidta', 'akdepe', 'bubaque', 'nouadhibou', 'ushuaia', 'umm ruwabah', 'westport', 'saint-philippe', 'vanimo', 'tuatapere', 'hobart', 'ust-kan', 'hithadhoo', 'korla', 'avarua', 'caico', 'meulaboh', 'okha', 'ponta do sol', 'esperance', 'carnarvon', 'sibu', 'saint-francois', 'katsuura', 'berlevag', 'sentyabrskiy', 'lorengau', 'pinega', 'san miguel', 'vaini', 'san lucas', 'upernavik', 'cayenne', 'clyde river', 'halalo', 'puerto escondido', 'mukhen', 'attawapiskat', 'honiara', 'taoudenni', 'verkh-usugli', 'georgetown', 'arvika', 'almeirim', 'illoqqortoormiut', 'dongfeng', 'mahebourg', 'lydenburg', 'novyy urengoy', 'kodiak', 'san juan del sur', 'lagoa', 'puerto ayora', 'chuy', 'rabo de peixe', 'yar-sale', 'college', 'talnakh', 'luderitz', 'cururupu', 'husavik', 'kibala', 'guerrero negro', 'nanakuli', 'butaritari', 'camocim', 'coihaique', 'aykhal', 'plaster rock', 'gravdal', 'komsomolskiy', 'jiddah', 'viedma', 'deputatskiy', 'tazovskiy', 'haicheng', 'yulara', 'grand gaube', 'port lincoln', 'sironj', 'belushya guba', 'dubai', 'skibbereen', 'marawi', 'lompoc', 'karratha', 'vestmannaeyjar', 'that phanom', 'karaman', 'saint george', 'russell', 'helong', 'tasiilaq', 'pizarro', 'barrow', 'thompson', 'amderma', 'ushtobe', 'segalstad', 'vila franca do campo', 'banff', 'mentok', 'mocambique', 'codrington', 'auki', 'arraial do cabo', 'amarante do maranhao', 'opobo', 'vardo', 'mount gambier', 'umzimvubu', 'faanui', 'emerald', 'nichinan', 'hihifo', 'qalyub', 'malwan', 'poplar bluff', 'kushima', 'jiayuguan', 'marsh harbour', 'new norfolk', 'beringovskiy', 'souillac', 'evensk', 'chagda', 'ilulissat', 'cidreira', 'hofn', 'inhambane', 'sorland', 'nanortalik', 'pacific grove', 'port alfred', 'itarema', 'san andres', 'madera', 'imeni poliny osipenko', 'parana', 'nortelandia', 'isangel', 'gore', 'penarroya-pueblonuevo', 'longyearbyen', 'phan rang', 'ribeira brava', 'stamsund', 'juneau', 'bontang', 'iqaluit', 'uglegorsk', 'oistins', 'touros', 'tiarei', 'dayong', 'san carlos de bariloche', 'surt', 'sitka', 'margate', 'vaitape', 'dinghai', 'benguela', 'midrand', 'lolua', 'kirakira', 'bogo', 'shillong', 'metro', 'mar del plata', 'hamilton', 'mezen', 'sinop', 'sambava', 'coquimbo', 'imbituba', 'waverly', 'geraldton', 'samusu', 'kahului', 'athabasca', 'port elizabeth', 'xiuyan', 'flinders', 'mangrol', 'muros', 'opuwo', 'oranjemund', 'camacha', 'koumac', 'abu samrah', 'kiunga', 'east london', 'marsa matruh', 'banda aceh', 'borujan', 'jalu', 'karkaralinsk', 'havelock', 'benton harbor', 'kissidougou', 'yarmouth', 'abha', 'aransas pass', 'sur', 'lavrentiya', 'cabo san lucas', 'provideniya', 'kasongo-lunda', 'zarubino', 'champerico', 'spartanburg', 'lebu', 'preobrazheniye', 'falun', 'port-gentil', 'ust-kamchatsk', 'tumannyy', 'san patricio', 'hellin', 'ust-tarka', 'sao filipe', 'vestmanna', 'den helder', 'dicabisagan', 'havoysund', 'warora', 'tsihombe', 'palauig', 'svetlogorsk', 'raul soares', 'baykit', 'umkomaas', 'hutchinson', 'aguimes', 'toliary', 'kyren', 'manuk mangkaw', 'gornyak', 'bathsheba', 'maralal', 'ituni', 'high level', 'kariba', 'garrel', 'beloha', 'severo-kurilsk', 'nishihara', 'pisco', 'sao francisco', 'ewa beach', 'alyangula', 'sangmelima', 'victoria', 'hami', 'palmer', 'bambous virieux', 'jelenia gora', 'nokaneng', 'tawau', 'onguday', 'ron phibun', 'rundu', 'dzilam gonzalez', 'namibe', 'eureka', 'saurimo', 'katsiveli', 'vanderhoof', 'arkhipo-osipovka', 'kununurra', 'hasaki', 'tawnat', 'tenenkou', 'lucapa', 'magistralnyy', 'dicamay', 'krasnovishersk', 'marshall', 'ostrovnoy', 'veydelevka', 'suez', 'kashi', 'heze', 'huilong', 'lodwar', 'narsaq', 'necochea', 'vila velha', 'baghdad', 'siderno', 'castro', 'nizhneyansk', 'chenzhou', 'horta', 'barbar', 'alofi', 'fairbanks', 'ravar', 'dudinka', 'skibotn', 'juegang', 'orel-izumrud', 'alibag', 'kirkwall', 'pelym', 'lewisporte', 'guajara', 'ramhormoz', 'huazolotitlan', 'jinxiang', 'kendari', 'avera', 'mehamn', 'havre-saint-pierre', 'kurchum', 'kruisfontein', 'harnai', 'mount isa', 'aklavik', 'albuquerque', 'morwell', 'sao jose da coroa grande', 'deqing', 'kasempa', 'kaitangata', 'kalmunai', 'ponta delgada', 'cornwall', 'kazalinsk', 'quelimane', 'gerardmer', 'dingle', 'sungairaya', 'chiredzi', 'warrnambool', 'edd', 'tomino', 'labuhan', 'bonham', 'mme', 'poum', 'nome', 'cockburn town', 'paytug', 'senno', 'te anau', 'onverwacht', 'tiznit', 'tiksi', 'klaksvik', 'najran', 'jackson', 'bethel', 'nakapiripirit', 'osoyoos', 'petrolia', 'iriron', 'warqla', 'lumberton', 'kurilsk', 'okhotsk', 'hobyo', 'chachapoyas', 'jaguarao', 'nara', 'mudhol', 'biskupiec', 'linhares', 'san quintin', 'meyungs', 'vila', 'nenjiang', 'sabzevar', 'lethem', 'nuevo progreso', 'tautira', 'roebourne', 'kavieng', 'kieta', 'buala', 'yeppoon', 'la palma', 'perth', 'chalon-sur-saone', 'stokmarknes', 'san policarpo', 'ponnani', 'horni plana', 'wegorzewo', 'olafsvik', 'iquitos', 'pag', 'pahrump', 'maceio', 'maniitsoq', 'cuamba', 'katherine', 'san cristobal', 'jonesboro', 'viligili', 'panjab', 'resistencia', 'aksarka', 'mareeba', 'hvide sande', 'laguna', 'sola', 'weihai', 'batagay', 'pallasovka', 'ngukurr', 'puerto colombia', 'bellefontaine', 'yuzhno-kurilsk', 'korcula', 'kupang', 'pangai', 'rawson', 'zhezkazgan', 'carutapera', 'inuvik', 'caravelas', 'tres arroyos', 'atasu', 'ongandjera', 'sabang', 'olds', 'castle douglas', 'sao geraldo do araguaia', 'pasni', 'gazli', 'cervo', 'bitung', 'karaul', 'garowe', 'zhigansk', 'petropavlovka', 'winnemucca', 'timra', 'myitkyina', 'yuci', 'pontianak', 'west odessa', 'bukan', 'seoul', 'slantsy', 'tura', 'biak', 'vao', 'humaita', 'broome', 'baracoa', 'oeiras', 'henties bay', 'kudahuvadhoo', 'bafia', 'cap malheureux', 'bushehr', 'bagdarin', 'nchelenge', 'vung tau', 'salalah', 'aksu', 'jutai', 'tucupita', 'sura', 'teya', 'broken hill', 'rudbar', 'ranong', 'makakilo city', 'tucuman', 'felnac', 'lloydminster', 'puerto quijarro', 'berbera', 'kristiinankaupunki', 'rio gallegos', 'bedele', 'elk city', 'upanema', 'saryshagan', 'saint-augustin', 'langsa', 'boyolangu', 'nikki', 'norman wells', 'noumea', 'bon air', 'jiazi', 'mitsamiouli', 'itupiranga', 'izazi', 'talcahuano', 'mitchell', 'camana', 'kuala krai', 'illertissen', 'pauini', 'prado', 'selishche', 'hurricane', 'riyadh', 'port keats', 'namatanai', 'labutta', 'dieppe', 'vaitupu', 'diego de almagro', 'altagracia de orituco', 'papasquiaro', 'orlik', 'samarai', 'yamada', 'port augusta', 'portland', 'verkhnyaya inta', 'luanda', 'kwekwe', 'cheyenne', 'moyale', 'port blair', 'baringo', 'knittelfeld', 'poronaysk', 'omsukchan', 'kalemie', 'nerchinskiy zavod', 'iquique', 'asau', 'berdigestyakh', 'shelburne', 'andrews', 'tateyama', 'fenoarivo', 'palekh', 'aden', 'saleaula', 'pedernales', 'malanje', 'axim', 'zunyi', 'yahualica', 'zvishavane', 'lukulu', 'la ronge', 'nizwa', 'miri', 'cabra', 'guadalupe y calvo', 'acapulco', 'rodrigues alves', 'dunedin', 'qiongshan', 'nipawin', 'tarlisua', 'jega', 'romitan', 'ahuimanu', 'gagarin', 'corrales', 'hanchuan']\n"
     ]
    }
   ],
   "source": [
    "#pprint list of cities \n",
    "print(cities)"
   ]
  },
  {
   "cell_type": "markdown",
   "metadata": {},
   "source": [
    "### Perform API Calls\n",
    "* Perform a weather check on each city using a series of successive API calls.\n",
    "* Include a print log of each city as it'sbeing processed (with the city number and city name).\n"
   ]
  },
  {
   "cell_type": "code",
   "execution_count": 4,
   "metadata": {
    "scrolled": true
   },
   "outputs": [
    {
     "name": "stdout",
     "output_type": "stream",
     "text": [
      "Beginning Data Retrieval \n",
      "-----------------------------\n"
     ]
    }
   ],
   "source": [
    "\n",
    "# Save config information.\n",
    "url = \"http://api.openweathermap.org/data/2.5/weather?\"\n",
    "units = \"imperial\"\n",
    "\n",
    "# Build partial query URL\n",
    "query_url = f\"{url}appid={weather_api_key}&units={units}&q=\""
   ]
  },
  {
   "cell_type": "code",
   "execution_count": 30,
   "metadata": {},
   "outputs": [
    {
     "name": "stdout",
     "output_type": "stream",
     "text": [
      "Beginning Data Retrieval \n",
      "-----------------------------\n",
      "Processing Record 1 of Set 1 : andra\n",
      "Processing Record 2 of Set 1 : leningradskiy\n",
      "Processing Record 3 of Set 1 : leh\n",
      "Processing Record 4 of Set 1 : santa lucia\n",
      "Processing Record 5 of Set 1 : mataura\n",
      "Processing Record 6 of Set 1 : cape town\n",
      "Processing Record 7 of Set 1 : dikson\n",
      "Processing Record 8 of Set 1 : ladispoli\n",
      "Processing Record 9 of Set 1 : derzhavinsk\n",
      "Processing Record 10 of Set 1 : kapaa\n",
      "Processing Record 11 of Set 1 : lima\n",
      "Processing Record 12 of Set 1 : bengkulu\n",
      "Processing Record 13 of Set 1 : kiruna\n",
      "Processing Record 14 of Set 1 : jamestown\n",
      "Processing Record 15 of Set 1 : acarau\n",
      "Processing Record 16 of Set 1 : bentiu\n",
      "Processing Record 17 of Set 1 : maldonado\n",
      "Processing Record 18 of Set 1 : tigil\n",
      "Processing Record 19 of Set 1 : pangnirtung\n",
      "Processing Record 20 of Set 1 : arman\n",
      "Processing Record 21 of Set 1 : qaanaaq\n",
      "Processing Record 22 of Set 1 : bredasdorp\n",
      "Processing Record 23 of Set 1 : tilichiki\n",
      "Processing Record 24 of Set 1 : hermanus\n",
      "Processing Record 25 of Set 1 : atuona\n",
      "Processing Record 26 of Set 1 : khatanga\n",
      "Processing Record 27 of Set 1 : albany\n",
      "Processing Record 28 of Set 1 : bilma\n",
      "Processing Record 29 of Set 1 : pevek\n",
      "Processing Record 30 of Set 1 : mercedes\n",
      "Processing Record 31 of Set 1 : punta arenas\n",
      "City not found. Skipping...\n",
      "Processing Record 32 of Set 1 : cherskiy\n",
      "Processing Record 33 of Set 1 : sisimiut\n",
      "Processing Record 34 of Set 1 : ribeira grande\n",
      "Processing Record 35 of Set 1 : eyl\n",
      "Processing Record 36 of Set 1 : gat\n",
      "Processing Record 37 of Set 1 : argalasti\n",
      "Processing Record 38 of Set 1 : hilo\n",
      "Processing Record 39 of Set 1 : lasa\n",
      "Processing Record 40 of Set 1 : rikitea\n",
      "Processing Record 41 of Set 1 : sao joao da barra\n",
      "Processing Record 42 of Set 1 : nikolskoye\n",
      "Processing Record 43 of Set 1 : lishui\n",
      "Processing Record 44 of Set 1 : torbay\n",
      "Processing Record 45 of Set 1 : yellowknife\n",
      "City not found. Skipping...\n",
      "Processing Record 46 of Set 1 : jumla\n",
      "Processing Record 47 of Set 1 : chokurdakh\n",
      "Processing Record 48 of Set 1 : bluff\n",
      "Processing Record 49 of Set 1 : ancud\n",
      "Processing Record 50 of Set 1 : aloguinsan\n",
      "Processing Record 0 of Set 2 : shimoda\n",
      "Processing Record 1 of Set 2 : constitucion\n",
      "Processing Record 2 of Set 2 : takoradi\n",
      "Processing Record 3 of Set 2 : arlit\n",
      "Processing Record 4 of Set 2 : oktyabrskoye\n",
      "Processing Record 5 of Set 2 : port hedland\n",
      "City not found. Skipping...\n",
      "Processing Record 6 of Set 2 : airai\n",
      "Processing Record 7 of Set 2 : saskylakh\n",
      "Processing Record 8 of Set 2 : serro\n",
      "Processing Record 9 of Set 2 : tuktoyaktuk\n",
      "Processing Record 10 of Set 2 : spearfish\n",
      "Processing Record 11 of Set 2 : zhangye\n",
      "Processing Record 12 of Set 2 : busselton\n",
      "City not found. Skipping...\n",
      "Processing Record 13 of Set 2 : akdepe\n",
      "Processing Record 14 of Set 2 : bubaque\n",
      "Processing Record 15 of Set 2 : nouadhibou\n",
      "Processing Record 16 of Set 2 : ushuaia\n",
      "City not found. Skipping...\n",
      "Processing Record 17 of Set 2 : westport\n",
      "Processing Record 18 of Set 2 : saint-philippe\n",
      "Processing Record 19 of Set 2 : vanimo\n",
      "Processing Record 20 of Set 2 : tuatapere\n",
      "Processing Record 21 of Set 2 : hobart\n",
      "Processing Record 22 of Set 2 : ust-kan\n",
      "Processing Record 23 of Set 2 : hithadhoo\n",
      "Processing Record 24 of Set 2 : korla\n",
      "Processing Record 25 of Set 2 : avarua\n",
      "Processing Record 26 of Set 2 : caico\n",
      "Processing Record 27 of Set 2 : meulaboh\n",
      "Processing Record 28 of Set 2 : okha\n",
      "Processing Record 29 of Set 2 : ponta do sol\n",
      "Processing Record 30 of Set 2 : esperance\n",
      "Processing Record 31 of Set 2 : carnarvon\n",
      "Processing Record 32 of Set 2 : sibu\n",
      "Processing Record 33 of Set 2 : saint-francois\n",
      "Processing Record 34 of Set 2 : katsuura\n",
      "Processing Record 35 of Set 2 : berlevag\n",
      "City not found. Skipping...\n",
      "Processing Record 36 of Set 2 : lorengau\n",
      "Processing Record 37 of Set 2 : pinega\n",
      "Processing Record 38 of Set 2 : san miguel\n",
      "Processing Record 39 of Set 2 : vaini\n",
      "Processing Record 40 of Set 2 : san lucas\n",
      "Processing Record 41 of Set 2 : upernavik\n",
      "Processing Record 42 of Set 2 : cayenne\n",
      "Processing Record 43 of Set 2 : clyde river\n",
      "City not found. Skipping...\n",
      "Processing Record 44 of Set 2 : puerto escondido\n",
      "Processing Record 45 of Set 2 : mukhen\n",
      "City not found. Skipping...\n",
      "Processing Record 46 of Set 2 : honiara\n",
      "Processing Record 47 of Set 2 : taoudenni\n",
      "Processing Record 48 of Set 2 : verkh-usugli\n",
      "Processing Record 49 of Set 2 : georgetown\n",
      "Processing Record 50 of Set 2 : arvika\n",
      "Processing Record 0 of Set 3 : almeirim\n",
      "City not found. Skipping...\n",
      "Processing Record 1 of Set 3 : dongfeng\n",
      "Processing Record 2 of Set 3 : mahebourg\n",
      "Processing Record 3 of Set 3 : lydenburg\n",
      "Processing Record 4 of Set 3 : novyy urengoy\n",
      "Processing Record 5 of Set 3 : kodiak\n",
      "Processing Record 6 of Set 3 : san juan del sur\n",
      "Processing Record 7 of Set 3 : lagoa\n",
      "Processing Record 8 of Set 3 : puerto ayora\n",
      "Processing Record 9 of Set 3 : chuy\n",
      "Processing Record 10 of Set 3 : rabo de peixe\n",
      "Processing Record 11 of Set 3 : yar-sale\n",
      "Processing Record 12 of Set 3 : college\n",
      "Processing Record 13 of Set 3 : talnakh\n",
      "Processing Record 14 of Set 3 : luderitz\n",
      "Processing Record 15 of Set 3 : cururupu\n",
      "Processing Record 16 of Set 3 : husavik\n",
      "Processing Record 17 of Set 3 : kibala\n",
      "Processing Record 18 of Set 3 : guerrero negro\n",
      "Processing Record 19 of Set 3 : nanakuli\n",
      "Processing Record 20 of Set 3 : butaritari\n",
      "Processing Record 21 of Set 3 : camocim\n",
      "Processing Record 22 of Set 3 : coihaique\n",
      "Processing Record 23 of Set 3 : aykhal\n",
      "Processing Record 24 of Set 3 : plaster rock\n",
      "Processing Record 25 of Set 3 : gravdal\n",
      "Processing Record 26 of Set 3 : komsomolskiy\n",
      "City not found. Skipping...\n",
      "Processing Record 27 of Set 3 : viedma\n",
      "Processing Record 28 of Set 3 : deputatskiy\n",
      "Processing Record 29 of Set 3 : tazovskiy\n",
      "Processing Record 30 of Set 3 : haicheng\n",
      "Processing Record 31 of Set 3 : yulara\n",
      "Processing Record 32 of Set 3 : grand gaube\n",
      "Processing Record 33 of Set 3 : port lincoln\n",
      "Processing Record 34 of Set 3 : sironj\n",
      "City not found. Skipping...\n",
      "Processing Record 35 of Set 3 : dubai\n",
      "Processing Record 36 of Set 3 : skibbereen\n",
      "Processing Record 37 of Set 3 : marawi\n",
      "Processing Record 38 of Set 3 : lompoc\n",
      "Processing Record 39 of Set 3 : karratha\n",
      "Processing Record 40 of Set 3 : vestmannaeyjar\n",
      "Processing Record 41 of Set 3 : that phanom\n",
      "Processing Record 42 of Set 3 : karaman\n",
      "Processing Record 43 of Set 3 : saint george\n",
      "Processing Record 44 of Set 3 : russell\n",
      "Processing Record 45 of Set 3 : helong\n",
      "Processing Record 46 of Set 3 : tasiilaq\n",
      "Processing Record 47 of Set 3 : pizarro\n",
      "Processing Record 48 of Set 3 : barrow\n",
      "Processing Record 49 of Set 3 : thompson\n",
      "City not found. Skipping...\n",
      "Processing Record 50 of Set 3 : ushtobe\n",
      "City not found. Skipping...\n",
      "Processing Record 0 of Set 4 : vila franca do campo\n",
      "Processing Record 1 of Set 4 : banff\n",
      "City not found. Skipping...\n",
      "City not found. Skipping...\n",
      "Processing Record 2 of Set 4 : codrington\n",
      "Processing Record 3 of Set 4 : auki\n",
      "Processing Record 4 of Set 4 : arraial do cabo\n",
      "Processing Record 5 of Set 4 : amarante do maranhao\n",
      "City not found. Skipping...\n",
      "Processing Record 6 of Set 4 : vardo\n",
      "Processing Record 7 of Set 4 : mount gambier\n",
      "City not found. Skipping...\n",
      "Processing Record 8 of Set 4 : faanui\n",
      "Processing Record 9 of Set 4 : emerald\n",
      "Processing Record 10 of Set 4 : nichinan\n",
      "City not found. Skipping...\n",
      "Processing Record 11 of Set 4 : qalyub\n",
      "City not found. Skipping...\n",
      "Processing Record 12 of Set 4 : poplar bluff\n",
      "Processing Record 13 of Set 4 : kushima\n",
      "Processing Record 14 of Set 4 : jiayuguan\n",
      "Processing Record 15 of Set 4 : marsh harbour\n",
      "Processing Record 16 of Set 4 : new norfolk\n",
      "Processing Record 17 of Set 4 : beringovskiy\n",
      "Processing Record 18 of Set 4 : souillac\n",
      "Processing Record 19 of Set 4 : evensk\n",
      "City not found. Skipping...\n",
      "Processing Record 20 of Set 4 : ilulissat\n",
      "Processing Record 21 of Set 4 : cidreira\n",
      "Processing Record 22 of Set 4 : hofn\n",
      "Processing Record 23 of Set 4 : inhambane\n",
      "Processing Record 24 of Set 4 : sorland\n",
      "Processing Record 25 of Set 4 : nanortalik\n",
      "Processing Record 26 of Set 4 : pacific grove\n",
      "Processing Record 27 of Set 4 : port alfred\n",
      "Processing Record 28 of Set 4 : itarema\n",
      "Processing Record 29 of Set 4 : san andres\n",
      "Processing Record 30 of Set 4 : madera\n",
      "Processing Record 31 of Set 4 : imeni poliny osipenko\n"
     ]
    },
    {
     "name": "stdout",
     "output_type": "stream",
     "text": [
      "Processing Record 32 of Set 4 : parana\n",
      "Processing Record 33 of Set 4 : nortelandia\n",
      "Processing Record 34 of Set 4 : isangel\n",
      "Processing Record 35 of Set 4 : gore\n",
      "Processing Record 36 of Set 4 : penarroya-pueblonuevo\n",
      "Processing Record 37 of Set 4 : longyearbyen\n",
      "City not found. Skipping...\n",
      "Processing Record 38 of Set 4 : ribeira brava\n",
      "City not found. Skipping...\n",
      "Processing Record 39 of Set 4 : juneau\n",
      "Processing Record 40 of Set 4 : bontang\n",
      "Processing Record 41 of Set 4 : iqaluit\n",
      "Processing Record 42 of Set 4 : uglegorsk\n",
      "Processing Record 43 of Set 4 : oistins\n",
      "Processing Record 44 of Set 4 : touros\n",
      "Processing Record 45 of Set 4 : tiarei\n",
      "Processing Record 46 of Set 4 : dayong\n",
      "Processing Record 47 of Set 4 : san carlos de bariloche\n",
      "Processing Record 48 of Set 4 : surt\n",
      "Processing Record 49 of Set 4 : sitka\n",
      "Processing Record 50 of Set 4 : margate\n",
      "Processing Record 0 of Set 5 : vaitape\n",
      "Processing Record 1 of Set 5 : dinghai\n",
      "Processing Record 2 of Set 5 : benguela\n",
      "Processing Record 3 of Set 5 : midrand\n",
      "City not found. Skipping...\n",
      "Processing Record 4 of Set 5 : kirakira\n",
      "Processing Record 5 of Set 5 : bogo\n",
      "Processing Record 6 of Set 5 : shillong\n",
      "Processing Record 7 of Set 5 : metro\n",
      "Processing Record 8 of Set 5 : mar del plata\n",
      "Processing Record 9 of Set 5 : hamilton\n",
      "Processing Record 10 of Set 5 : mezen\n",
      "Processing Record 11 of Set 5 : sinop\n",
      "Processing Record 12 of Set 5 : sambava\n",
      "Processing Record 13 of Set 5 : coquimbo\n",
      "Processing Record 14 of Set 5 : imbituba\n",
      "Processing Record 15 of Set 5 : waverly\n",
      "Processing Record 16 of Set 5 : geraldton\n",
      "City not found. Skipping...\n",
      "Processing Record 17 of Set 5 : kahului\n",
      "Processing Record 18 of Set 5 : athabasca\n",
      "Processing Record 19 of Set 5 : port elizabeth\n",
      "Processing Record 20 of Set 5 : xiuyan\n",
      "Processing Record 21 of Set 5 : flinders\n",
      "Processing Record 22 of Set 5 : mangrol\n",
      "Processing Record 23 of Set 5 : muros\n",
      "Processing Record 24 of Set 5 : opuwo\n",
      "Processing Record 25 of Set 5 : oranjemund\n",
      "Processing Record 26 of Set 5 : camacha\n",
      "Processing Record 27 of Set 5 : koumac\n",
      "Processing Record 28 of Set 5 : abu samrah\n",
      "Processing Record 29 of Set 5 : kiunga\n",
      "Processing Record 30 of Set 5 : east london\n",
      "Processing Record 31 of Set 5 : marsa matruh\n",
      "Processing Record 32 of Set 5 : banda aceh\n",
      "City not found. Skipping...\n",
      "Processing Record 33 of Set 5 : jalu\n",
      "City not found. Skipping...\n",
      "Processing Record 34 of Set 5 : havelock\n",
      "Processing Record 35 of Set 5 : benton harbor\n",
      "Processing Record 36 of Set 5 : kissidougou\n",
      "Processing Record 37 of Set 5 : yarmouth\n",
      "Processing Record 38 of Set 5 : abha\n",
      "Processing Record 39 of Set 5 : aransas pass\n",
      "Processing Record 40 of Set 5 : sur\n",
      "Processing Record 41 of Set 5 : lavrentiya\n",
      "Processing Record 42 of Set 5 : cabo san lucas\n",
      "Processing Record 43 of Set 5 : provideniya\n",
      "Processing Record 44 of Set 5 : kasongo-lunda\n",
      "Processing Record 45 of Set 5 : zarubino\n",
      "Processing Record 46 of Set 5 : champerico\n",
      "Processing Record 47 of Set 5 : spartanburg\n",
      "Processing Record 48 of Set 5 : lebu\n",
      "Processing Record 49 of Set 5 : preobrazheniye\n",
      "Processing Record 50 of Set 5 : falun\n",
      "Processing Record 0 of Set 6 : port-gentil\n",
      "City not found. Skipping...\n",
      "City not found. Skipping...\n",
      "Processing Record 1 of Set 6 : san patricio\n",
      "Processing Record 2 of Set 6 : hellin\n",
      "Processing Record 3 of Set 6 : ust-tarka\n",
      "Processing Record 4 of Set 6 : sao filipe\n",
      "Processing Record 5 of Set 6 : vestmanna\n",
      "Processing Record 6 of Set 6 : den helder\n",
      "Processing Record 7 of Set 6 : dicabisagan\n",
      "Processing Record 8 of Set 6 : havoysund\n",
      "Processing Record 9 of Set 6 : warora\n",
      "City not found. Skipping...\n",
      "Processing Record 10 of Set 6 : palauig\n",
      "Processing Record 11 of Set 6 : svetlogorsk\n",
      "Processing Record 12 of Set 6 : raul soares\n",
      "Processing Record 13 of Set 6 : baykit\n",
      "Processing Record 14 of Set 6 : umkomaas\n",
      "Processing Record 15 of Set 6 : hutchinson\n",
      "Processing Record 16 of Set 6 : aguimes\n",
      "City not found. Skipping...\n",
      "Processing Record 17 of Set 6 : kyren\n",
      "Processing Record 18 of Set 6 : manuk mangkaw\n",
      "Processing Record 19 of Set 6 : gornyak\n",
      "Processing Record 20 of Set 6 : bathsheba\n",
      "Processing Record 21 of Set 6 : maralal\n",
      "City not found. Skipping...\n",
      "Processing Record 22 of Set 6 : high level\n",
      "Processing Record 23 of Set 6 : kariba\n",
      "Processing Record 24 of Set 6 : garrel\n",
      "Processing Record 25 of Set 6 : beloha\n",
      "Processing Record 26 of Set 6 : severo-kurilsk\n",
      "Processing Record 27 of Set 6 : nishihara\n",
      "Processing Record 28 of Set 6 : pisco\n",
      "Processing Record 29 of Set 6 : sao francisco\n",
      "Processing Record 30 of Set 6 : ewa beach\n",
      "Processing Record 31 of Set 6 : alyangula\n",
      "Processing Record 32 of Set 6 : sangmelima\n",
      "Processing Record 33 of Set 6 : victoria\n",
      "Processing Record 34 of Set 6 : hami\n",
      "Processing Record 35 of Set 6 : palmer\n",
      "Processing Record 36 of Set 6 : bambous virieux\n",
      "Processing Record 37 of Set 6 : jelenia gora\n",
      "Processing Record 38 of Set 6 : nokaneng\n",
      "Processing Record 39 of Set 6 : tawau\n",
      "Processing Record 40 of Set 6 : onguday\n",
      "Processing Record 41 of Set 6 : ron phibun\n",
      "Processing Record 42 of Set 6 : rundu\n",
      "Processing Record 43 of Set 6 : dzilam gonzalez\n",
      "Processing Record 44 of Set 6 : namibe\n",
      "Processing Record 45 of Set 6 : eureka\n",
      "Processing Record 46 of Set 6 : saurimo\n",
      "City not found. Skipping...\n",
      "Processing Record 47 of Set 6 : vanderhoof\n",
      "Processing Record 48 of Set 6 : arkhipo-osipovka\n",
      "Processing Record 49 of Set 6 : kununurra\n",
      "Processing Record 50 of Set 6 : hasaki\n",
      "City not found. Skipping...\n",
      "Processing Record 0 of Set 7 : tenenkou\n",
      "Processing Record 1 of Set 7 : lucapa\n",
      "Processing Record 2 of Set 7 : magistralnyy\n",
      "Processing Record 3 of Set 7 : dicamay\n",
      "Processing Record 4 of Set 7 : krasnovishersk\n",
      "Processing Record 5 of Set 7 : marshall\n",
      "Processing Record 6 of Set 7 : ostrovnoy\n",
      "Processing Record 7 of Set 7 : veydelevka\n",
      "Processing Record 8 of Set 7 : suez\n",
      "Processing Record 9 of Set 7 : kashi\n",
      "Processing Record 10 of Set 7 : heze\n",
      "Processing Record 11 of Set 7 : huilong\n",
      "Processing Record 12 of Set 7 : lodwar\n",
      "Processing Record 13 of Set 7 : narsaq\n",
      "Processing Record 14 of Set 7 : necochea\n",
      "Processing Record 15 of Set 7 : vila velha\n",
      "Processing Record 16 of Set 7 : baghdad\n",
      "Processing Record 17 of Set 7 : siderno\n",
      "Processing Record 18 of Set 7 : castro\n",
      "City not found. Skipping...\n",
      "Processing Record 19 of Set 7 : chenzhou\n",
      "Processing Record 20 of Set 7 : horta\n",
      "City not found. Skipping...\n",
      "Processing Record 21 of Set 7 : alofi\n",
      "Processing Record 22 of Set 7 : fairbanks\n",
      "Processing Record 23 of Set 7 : ravar\n",
      "Processing Record 24 of Set 7 : dudinka\n",
      "Processing Record 25 of Set 7 : skibotn\n",
      "Processing Record 26 of Set 7 : juegang\n",
      "Processing Record 27 of Set 7 : orel-izumrud\n",
      "Processing Record 28 of Set 7 : alibag\n",
      "Processing Record 29 of Set 7 : kirkwall\n",
      "Processing Record 30 of Set 7 : pelym\n",
      "Processing Record 31 of Set 7 : lewisporte\n",
      "Processing Record 32 of Set 7 : guajara\n",
      "Processing Record 33 of Set 7 : ramhormoz\n",
      "City not found. Skipping...\n",
      "Processing Record 34 of Set 7 : jinxiang\n",
      "Processing Record 35 of Set 7 : kendari\n",
      "Processing Record 36 of Set 7 : avera\n",
      "Processing Record 37 of Set 7 : mehamn\n",
      "Processing Record 38 of Set 7 : havre-saint-pierre\n",
      "Processing Record 39 of Set 7 : kurchum\n",
      "Processing Record 40 of Set 7 : kruisfontein\n",
      "Processing Record 41 of Set 7 : harnai\n",
      "Processing Record 42 of Set 7 : mount isa\n",
      "Processing Record 43 of Set 7 : aklavik\n",
      "Processing Record 44 of Set 7 : albuquerque\n",
      "Processing Record 45 of Set 7 : morwell\n",
      "Processing Record 46 of Set 7 : sao jose da coroa grande\n",
      "Processing Record 47 of Set 7 : deqing\n",
      "Processing Record 48 of Set 7 : kasempa\n",
      "Processing Record 49 of Set 7 : kaitangata\n",
      "Processing Record 50 of Set 7 : kalmunai\n",
      "Processing Record 0 of Set 8 : ponta delgada\n",
      "Processing Record 1 of Set 8 : cornwall\n",
      "City not found. Skipping...\n",
      "Processing Record 2 of Set 8 : quelimane\n",
      "Processing Record 3 of Set 8 : gerardmer\n",
      "Processing Record 4 of Set 8 : dingle\n",
      "Processing Record 5 of Set 8 : sungairaya\n",
      "Processing Record 6 of Set 8 : chiredzi\n",
      "Processing Record 7 of Set 8 : warrnambool\n",
      "Processing Record 8 of Set 8 : edd\n",
      "Processing Record 9 of Set 8 : tomino\n",
      "Processing Record 10 of Set 8 : labuhan\n",
      "Processing Record 11 of Set 8 : bonham\n",
      "City not found. Skipping...\n",
      "Processing Record 12 of Set 8 : poum\n",
      "Processing Record 13 of Set 8 : nome\n",
      "Processing Record 14 of Set 8 : cockburn town\n"
     ]
    },
    {
     "name": "stdout",
     "output_type": "stream",
     "text": [
      "City not found. Skipping...\n",
      "Processing Record 15 of Set 8 : senno\n",
      "Processing Record 16 of Set 8 : te anau\n",
      "Processing Record 17 of Set 8 : onverwacht\n",
      "Processing Record 18 of Set 8 : tiznit\n",
      "Processing Record 19 of Set 8 : tiksi\n",
      "Processing Record 20 of Set 8 : klaksvik\n",
      "Processing Record 21 of Set 8 : najran\n",
      "Processing Record 22 of Set 8 : jackson\n",
      "Processing Record 23 of Set 8 : bethel\n",
      "Processing Record 24 of Set 8 : nakapiripirit\n",
      "Processing Record 25 of Set 8 : osoyoos\n",
      "Processing Record 26 of Set 8 : petrolia\n",
      "City not found. Skipping...\n",
      "City not found. Skipping...\n",
      "Processing Record 27 of Set 8 : lumberton\n",
      "Processing Record 28 of Set 8 : kurilsk\n",
      "Processing Record 29 of Set 8 : okhotsk\n",
      "Processing Record 30 of Set 8 : hobyo\n",
      "Processing Record 31 of Set 8 : chachapoyas\n",
      "Processing Record 32 of Set 8 : jaguarao\n",
      "Processing Record 33 of Set 8 : nara\n",
      "Processing Record 34 of Set 8 : mudhol\n",
      "Processing Record 35 of Set 8 : biskupiec\n",
      "Processing Record 36 of Set 8 : linhares\n",
      "Processing Record 37 of Set 8 : san quintin\n",
      "City not found. Skipping...\n",
      "Processing Record 38 of Set 8 : vila\n",
      "Processing Record 39 of Set 8 : nenjiang\n",
      "Processing Record 40 of Set 8 : sabzevar\n",
      "Processing Record 41 of Set 8 : lethem\n",
      "Processing Record 42 of Set 8 : nuevo progreso\n",
      "Processing Record 43 of Set 8 : tautira\n",
      "Processing Record 44 of Set 8 : roebourne\n",
      "Processing Record 45 of Set 8 : kavieng\n",
      "Processing Record 46 of Set 8 : kieta\n",
      "Processing Record 47 of Set 8 : buala\n",
      "Processing Record 48 of Set 8 : yeppoon\n",
      "Processing Record 49 of Set 8 : la palma\n",
      "Processing Record 50 of Set 8 : perth\n",
      "Processing Record 0 of Set 9 : chalon-sur-saone\n",
      "Processing Record 1 of Set 9 : stokmarknes\n",
      "Processing Record 2 of Set 9 : san policarpo\n",
      "Processing Record 3 of Set 9 : ponnani\n",
      "Processing Record 4 of Set 9 : horni plana\n",
      "Processing Record 5 of Set 9 : wegorzewo\n",
      "Processing Record 6 of Set 9 : olafsvik\n",
      "Processing Record 7 of Set 9 : iquitos\n",
      "Processing Record 8 of Set 9 : pag\n",
      "Processing Record 9 of Set 9 : pahrump\n",
      "Processing Record 10 of Set 9 : maceio\n",
      "Processing Record 11 of Set 9 : maniitsoq\n",
      "Processing Record 12 of Set 9 : cuamba\n",
      "Processing Record 13 of Set 9 : katherine\n",
      "Processing Record 14 of Set 9 : san cristobal\n",
      "Processing Record 15 of Set 9 : jonesboro\n",
      "City not found. Skipping...\n",
      "Processing Record 16 of Set 9 : panjab\n",
      "Processing Record 17 of Set 9 : resistencia\n",
      "Processing Record 18 of Set 9 : aksarka\n",
      "Processing Record 19 of Set 9 : mareeba\n",
      "Processing Record 20 of Set 9 : hvide sande\n",
      "Processing Record 21 of Set 9 : laguna\n",
      "Processing Record 22 of Set 9 : sola\n",
      "Processing Record 23 of Set 9 : weihai\n",
      "Processing Record 24 of Set 9 : batagay\n",
      "Processing Record 25 of Set 9 : pallasovka\n",
      "City not found. Skipping...\n",
      "Processing Record 26 of Set 9 : puerto colombia\n",
      "Processing Record 27 of Set 9 : bellefontaine\n",
      "Processing Record 28 of Set 9 : yuzhno-kurilsk\n",
      "Processing Record 29 of Set 9 : korcula\n",
      "Processing Record 30 of Set 9 : kupang\n",
      "Processing Record 31 of Set 9 : pangai\n",
      "Processing Record 32 of Set 9 : rawson\n",
      "Processing Record 33 of Set 9 : zhezkazgan\n",
      "Processing Record 34 of Set 9 : carutapera\n",
      "Processing Record 35 of Set 9 : inuvik\n",
      "Processing Record 36 of Set 9 : caravelas\n",
      "Processing Record 37 of Set 9 : tres arroyos\n",
      "Processing Record 38 of Set 9 : atasu\n",
      "Processing Record 39 of Set 9 : ongandjera\n",
      "Processing Record 40 of Set 9 : sabang\n",
      "Processing Record 41 of Set 9 : olds\n",
      "Processing Record 42 of Set 9 : castle douglas\n",
      "Processing Record 43 of Set 9 : sao geraldo do araguaia\n",
      "Processing Record 44 of Set 9 : pasni\n",
      "Processing Record 45 of Set 9 : gazli\n",
      "Processing Record 46 of Set 9 : cervo\n",
      "Processing Record 47 of Set 9 : bitung\n",
      "City not found. Skipping...\n",
      "Processing Record 48 of Set 9 : garowe\n",
      "Processing Record 49 of Set 9 : zhigansk\n",
      "Processing Record 50 of Set 9 : petropavlovka\n",
      "Processing Record 0 of Set 10 : winnemucca\n",
      "Processing Record 1 of Set 10 : timra\n",
      "Processing Record 2 of Set 10 : myitkyina\n",
      "Processing Record 3 of Set 10 : yuci\n",
      "Processing Record 4 of Set 10 : pontianak\n",
      "Processing Record 5 of Set 10 : west odessa\n",
      "Processing Record 6 of Set 10 : bukan\n",
      "Processing Record 7 of Set 10 : seoul\n",
      "Processing Record 8 of Set 10 : slantsy\n",
      "Processing Record 9 of Set 10 : tura\n",
      "Processing Record 10 of Set 10 : biak\n",
      "Processing Record 11 of Set 10 : vao\n",
      "Processing Record 12 of Set 10 : humaita\n",
      "Processing Record 13 of Set 10 : broome\n",
      "Processing Record 14 of Set 10 : baracoa\n",
      "Processing Record 15 of Set 10 : oeiras\n",
      "Processing Record 16 of Set 10 : henties bay\n",
      "Processing Record 17 of Set 10 : kudahuvadhoo\n",
      "Processing Record 18 of Set 10 : bafia\n",
      "Processing Record 19 of Set 10 : cap malheureux\n",
      "Processing Record 20 of Set 10 : bushehr\n",
      "Processing Record 21 of Set 10 : bagdarin\n",
      "Processing Record 22 of Set 10 : nchelenge\n",
      "Processing Record 23 of Set 10 : vung tau\n",
      "Processing Record 24 of Set 10 : salalah\n",
      "Processing Record 25 of Set 10 : aksu\n",
      "Processing Record 26 of Set 10 : jutai\n",
      "Processing Record 27 of Set 10 : tucupita\n",
      "Processing Record 28 of Set 10 : sura\n",
      "Processing Record 29 of Set 10 : teya\n",
      "Processing Record 30 of Set 10 : broken hill\n",
      "Processing Record 31 of Set 10 : rudbar\n",
      "Processing Record 32 of Set 10 : ranong\n",
      "Processing Record 33 of Set 10 : makakilo city\n",
      "Processing Record 34 of Set 10 : tucuman\n",
      "Processing Record 35 of Set 10 : felnac\n",
      "Processing Record 36 of Set 10 : lloydminster\n",
      "Processing Record 37 of Set 10 : puerto quijarro\n",
      "Processing Record 38 of Set 10 : berbera\n",
      "Processing Record 39 of Set 10 : kristiinankaupunki\n",
      "Processing Record 40 of Set 10 : rio gallegos\n",
      "Processing Record 41 of Set 10 : bedele\n",
      "Processing Record 42 of Set 10 : elk city\n",
      "Processing Record 43 of Set 10 : upanema\n",
      "City not found. Skipping...\n",
      "Processing Record 44 of Set 10 : saint-augustin\n",
      "Processing Record 45 of Set 10 : langsa\n",
      "Processing Record 46 of Set 10 : boyolangu\n",
      "Processing Record 47 of Set 10 : nikki\n",
      "Processing Record 48 of Set 10 : norman wells\n",
      "Processing Record 49 of Set 10 : noumea\n",
      "Processing Record 50 of Set 10 : bon air\n",
      "Processing Record 0 of Set 11 : jiazi\n",
      "Processing Record 1 of Set 11 : mitsamiouli\n",
      "Processing Record 2 of Set 11 : itupiranga\n",
      "Processing Record 3 of Set 11 : izazi\n",
      "Processing Record 4 of Set 11 : talcahuano\n",
      "Processing Record 5 of Set 11 : mitchell\n",
      "Processing Record 6 of Set 11 : camana\n",
      "City not found. Skipping...\n",
      "Processing Record 7 of Set 11 : illertissen\n",
      "Processing Record 8 of Set 11 : pauini\n",
      "Processing Record 9 of Set 11 : prado\n",
      "Processing Record 10 of Set 11 : selishche\n",
      "Processing Record 11 of Set 11 : hurricane\n",
      "Processing Record 12 of Set 11 : riyadh\n",
      "Processing Record 13 of Set 11 : port keats\n",
      "Processing Record 14 of Set 11 : namatanai\n",
      "City not found. Skipping...\n",
      "Processing Record 15 of Set 11 : dieppe\n",
      "City not found. Skipping...\n",
      "Processing Record 16 of Set 11 : diego de almagro\n",
      "Processing Record 17 of Set 11 : altagracia de orituco\n",
      "City not found. Skipping...\n",
      "Processing Record 18 of Set 11 : orlik\n",
      "Processing Record 19 of Set 11 : samarai\n",
      "Processing Record 20 of Set 11 : yamada\n",
      "Processing Record 21 of Set 11 : port augusta\n",
      "Processing Record 22 of Set 11 : portland\n",
      "Processing Record 23 of Set 11 : verkhnyaya inta\n",
      "Processing Record 24 of Set 11 : luanda\n",
      "Processing Record 25 of Set 11 : kwekwe\n",
      "Processing Record 26 of Set 11 : cheyenne\n",
      "Processing Record 27 of Set 11 : moyale\n",
      "Processing Record 28 of Set 11 : port blair\n",
      "Processing Record 29 of Set 11 : baringo\n",
      "Processing Record 30 of Set 11 : knittelfeld\n",
      "Processing Record 31 of Set 11 : poronaysk\n",
      "Processing Record 32 of Set 11 : omsukchan\n",
      "Processing Record 33 of Set 11 : kalemie\n",
      "Processing Record 34 of Set 11 : nerchinskiy zavod\n",
      "Processing Record 35 of Set 11 : iquique\n",
      "Processing Record 36 of Set 11 : asau\n",
      "Processing Record 37 of Set 11 : berdigestyakh\n",
      "Processing Record 38 of Set 11 : shelburne\n",
      "Processing Record 39 of Set 11 : andrews\n",
      "Processing Record 40 of Set 11 : tateyama\n",
      "Processing Record 41 of Set 11 : fenoarivo\n",
      "Processing Record 42 of Set 11 : palekh\n",
      "Processing Record 43 of Set 11 : aden\n",
      "City not found. Skipping...\n",
      "Processing Record 44 of Set 11 : pedernales\n",
      "Processing Record 45 of Set 11 : malanje\n",
      "Processing Record 46 of Set 11 : axim\n",
      "Processing Record 47 of Set 11 : zunyi\n",
      "Processing Record 48 of Set 11 : yahualica\n",
      "Processing Record 49 of Set 11 : zvishavane\n",
      "Processing Record 50 of Set 11 : lukulu\n",
      "Processing Record 0 of Set 12 : la ronge\n"
     ]
    },
    {
     "name": "stdout",
     "output_type": "stream",
     "text": [
      "Processing Record 1 of Set 12 : nizwa\n",
      "Processing Record 2 of Set 12 : miri\n",
      "Processing Record 3 of Set 12 : cabra\n",
      "Processing Record 4 of Set 12 : guadalupe y calvo\n",
      "Processing Record 5 of Set 12 : acapulco\n",
      "Processing Record 6 of Set 12 : rodrigues alves\n",
      "Processing Record 7 of Set 12 : dunedin\n",
      "Processing Record 8 of Set 12 : qiongshan\n",
      "Processing Record 9 of Set 12 : nipawin\n",
      "City not found. Skipping...\n",
      "Processing Record 10 of Set 12 : jega\n",
      "Processing Record 11 of Set 12 : romitan\n",
      "Processing Record 12 of Set 12 : ahuimanu\n",
      "Processing Record 13 of Set 12 : gagarin\n",
      "Processing Record 14 of Set 12 : corrales\n",
      "Processing Record 15 of Set 12 : hanchuan\n",
      "-----------------------------\n",
      "Data Retrieval Complete\n",
      "-----------------------------\n"
     ]
    }
   ],
   "source": [
    "# inital print statements for data retrieval process\n",
    "print(\"Beginning Data Retrieval \")\n",
    "print(\"-----------------------------\")\n",
    "# set up lists to hold reponse info\n",
    "cityname = []\n",
    "cloud = []\n",
    "country = []\n",
    "date = []\n",
    "humidity = []\n",
    "lat = []\n",
    "long = []\n",
    "tempmax = []\n",
    "wind = []\n",
    "index_counter = 0\n",
    "set_counter = 1\n",
    "# For each city name in cities list, do below things...\n",
    "for index, city in enumerate(cities, start = 1):\n",
    "    try:\n",
    "        response = requests.get(query_url + city).json()\n",
    "        cityname.append(response[\"name\"])\n",
    "        cloud.append(response[\"clouds\"][\"all\"])\n",
    "        country.append(response[\"sys\"][\"country\"])\n",
    "        date.append(response[\"dt\"])\n",
    "        humidity.append(response[\"main\"][\"humidity\"])\n",
    "        lat.append(response[\"coord\"][\"lat\"])\n",
    "        long.append(response[\"coord\"][\"lon\"])\n",
    "        tempmax.append(response['main']['temp_max'])\n",
    "        wind.append(response[\"wind\"][\"speed\"])\n",
    "        if index_counter > 49:\n",
    "            index_counter = 0\n",
    "            set_counter = set_counter + 1\n",
    "    \n",
    "        else:\n",
    "            index_counter = index_counter + 1\n",
    "            \n",
    "        print(f\"Processing Record {index_counter} of Set {set_counter} : {city}\") \n",
    "  \n",
    "    except(KeyError, IndexError):\n",
    "        print(\"City not found. Skipping...\")\n",
    "\n",
    "print(\"-----------------------------\")\n",
    "print(\"Data Retrieval Complete\")\n",
    "print(\"-----------------------------\")\n",
    " \n"
   ]
  },
  {
   "cell_type": "markdown",
   "metadata": {},
   "source": [
    "### Convert Raw Data to DataFrame\n",
    "* Export the city data into a .csv.\n",
    "* Display the DataFrame"
   ]
  },
  {
   "cell_type": "code",
   "execution_count": 31,
   "metadata": {},
   "outputs": [
    {
     "data": {
      "text/plain": [
       "City                  576\n",
       "Cloudiness(%)         576\n",
       "Country               576\n",
       "Date                  576\n",
       "Humidity(%)           576\n",
       "Latitude              576\n",
       "Longitude             576\n",
       "Max Temperature(F)    576\n",
       "Wind Speed(mph)       576\n",
       "dtype: int64"
      ]
     },
     "execution_count": 31,
     "metadata": {},
     "output_type": "execute_result"
    }
   ],
   "source": [
    "# Create a panda data frame using data retrieved\n",
    "citydata_df = pd.DataFrame({ \n",
    "                \"City\" : cityname,\n",
    "                \"Cloudiness(%)\" : cloud,\n",
    "                \"Country\" : country,\n",
    "                \"Date\" : date,\n",
    "                \"Humidity(%)\" : humidity,\n",
    "                \"Latitude\" : lat,\n",
    "                \"Longitude\" : long,\n",
    "                \"Max Temperature(F)\" : tempmax,\n",
    "                \"Wind Speed(mph)\" : wind})\n",
    "citydata_df.count()"
   ]
  },
  {
   "cell_type": "code",
   "execution_count": 32,
   "metadata": {},
   "outputs": [
    {
     "data": {
      "text/html": [
       "<div>\n",
       "<style scoped>\n",
       "    .dataframe tbody tr th:only-of-type {\n",
       "        vertical-align: middle;\n",
       "    }\n",
       "\n",
       "    .dataframe tbody tr th {\n",
       "        vertical-align: top;\n",
       "    }\n",
       "\n",
       "    .dataframe thead th {\n",
       "        text-align: right;\n",
       "    }\n",
       "</style>\n",
       "<table border=\"1\" class=\"dataframe\">\n",
       "  <thead>\n",
       "    <tr style=\"text-align: right;\">\n",
       "      <th></th>\n",
       "      <th>City</th>\n",
       "      <th>Cloudiness(%)</th>\n",
       "      <th>Country</th>\n",
       "      <th>Date</th>\n",
       "      <th>Humidity(%)</th>\n",
       "      <th>Latitude</th>\n",
       "      <th>Longitude</th>\n",
       "      <th>Max Temperature(F)</th>\n",
       "      <th>Wind Speed(mph)</th>\n",
       "    </tr>\n",
       "  </thead>\n",
       "  <tbody>\n",
       "    <tr>\n",
       "      <th>0</th>\n",
       "      <td>Andra</td>\n",
       "      <td>100</td>\n",
       "      <td>RU</td>\n",
       "      <td>1612749865</td>\n",
       "      <td>92</td>\n",
       "      <td>62.5147</td>\n",
       "      <td>65.8878</td>\n",
       "      <td>-4.16</td>\n",
       "      <td>7.56</td>\n",
       "    </tr>\n",
       "    <tr>\n",
       "      <th>1</th>\n",
       "      <td>Leningradskiy</td>\n",
       "      <td>4</td>\n",
       "      <td>RU</td>\n",
       "      <td>1612749877</td>\n",
       "      <td>86</td>\n",
       "      <td>69.3833</td>\n",
       "      <td>178.4167</td>\n",
       "      <td>-15.84</td>\n",
       "      <td>8.37</td>\n",
       "    </tr>\n",
       "    <tr>\n",
       "      <th>2</th>\n",
       "      <td>Leh</td>\n",
       "      <td>45</td>\n",
       "      <td>IN</td>\n",
       "      <td>1612749877</td>\n",
       "      <td>58</td>\n",
       "      <td>34.1667</td>\n",
       "      <td>77.5833</td>\n",
       "      <td>11.59</td>\n",
       "      <td>1.95</td>\n",
       "    </tr>\n",
       "    <tr>\n",
       "      <th>3</th>\n",
       "      <td>Santa Lucía</td>\n",
       "      <td>20</td>\n",
       "      <td>ES</td>\n",
       "      <td>1612749877</td>\n",
       "      <td>72</td>\n",
       "      <td>27.9117</td>\n",
       "      <td>-15.5407</td>\n",
       "      <td>60.80</td>\n",
       "      <td>8.05</td>\n",
       "    </tr>\n",
       "    <tr>\n",
       "      <th>4</th>\n",
       "      <td>Mataura</td>\n",
       "      <td>100</td>\n",
       "      <td>NZ</td>\n",
       "      <td>1612749877</td>\n",
       "      <td>44</td>\n",
       "      <td>-46.1927</td>\n",
       "      <td>168.8643</td>\n",
       "      <td>73.56</td>\n",
       "      <td>2.59</td>\n",
       "    </tr>\n",
       "  </tbody>\n",
       "</table>\n",
       "</div>"
      ],
      "text/plain": [
       "            City  Cloudiness(%) Country        Date  Humidity(%)  Latitude  \\\n",
       "0          Andra            100      RU  1612749865           92   62.5147   \n",
       "1  Leningradskiy              4      RU  1612749877           86   69.3833   \n",
       "2            Leh             45      IN  1612749877           58   34.1667   \n",
       "3    Santa Lucía             20      ES  1612749877           72   27.9117   \n",
       "4        Mataura            100      NZ  1612749877           44  -46.1927   \n",
       "\n",
       "   Longitude  Max Temperature(F)  Wind Speed(mph)  \n",
       "0    65.8878               -4.16             7.56  \n",
       "1   178.4167              -15.84             8.37  \n",
       "2    77.5833               11.59             1.95  \n",
       "3   -15.5407               60.80             8.05  \n",
       "4   168.8643               73.56             2.59  "
      ]
     },
     "execution_count": 32,
     "metadata": {},
     "output_type": "execute_result"
    }
   ],
   "source": [
    "# displaying new data frame\n",
    "citydata_df.head()"
   ]
  },
  {
   "cell_type": "code",
   "execution_count": 33,
   "metadata": {},
   "outputs": [],
   "source": [
    "citydata_df.to_csv(\"output_data/cities.csv\")"
   ]
  },
  {
   "cell_type": "markdown",
   "metadata": {},
   "source": [
    "## Inspect the data and remove the cities where the humidity > 100%.\n",
    "----\n",
    "Skip this step if there are no cities that have humidity > 100%. "
   ]
  },
  {
   "cell_type": "code",
   "execution_count": 34,
   "metadata": {},
   "outputs": [],
   "source": [
    "# Skipping this step, but below confirms skipping per no cities wtih humidity>100"
   ]
  },
  {
   "cell_type": "code",
   "execution_count": 35,
   "metadata": {},
   "outputs": [
    {
     "data": {
      "text/plain": [
       "City                  0\n",
       "Cloudiness(%)         0\n",
       "Country               0\n",
       "Date                  0\n",
       "Humidity(%)           0\n",
       "Latitude              0\n",
       "Longitude             0\n",
       "Max Temperature(F)    0\n",
       "Wind Speed(mph)       0\n",
       "dtype: int64"
      ]
     },
     "execution_count": 35,
     "metadata": {},
     "output_type": "execute_result"
    }
   ],
   "source": [
    "#  Get the indices of cities that have humidity over 100%.\n",
    "humid_100 = citydata_df.loc[ citydata_df[\"Humidity(%)\"] > 100]\n",
    "humid_100.count()"
   ]
  },
  {
   "cell_type": "code",
   "execution_count": 36,
   "metadata": {},
   "outputs": [],
   "source": [
    "# Make a new DataFrame equal to the city data to drop all humidity outliers by index.\n",
    "# Passing \"inplace=False\" will make a copy of the city_data DataFrame, which we call \"clean_city_data\".\n"
   ]
  },
  {
   "cell_type": "code",
   "execution_count": null,
   "metadata": {},
   "outputs": [],
   "source": [
    "\n"
   ]
  },
  {
   "cell_type": "markdown",
   "metadata": {},
   "source": [
    "## Plotting the Data\n",
    "* Use proper labeling of the plots using plot titles (including date of analysis) and axes labels.\n",
    "* Save the plotted figures as .pngs."
   ]
  },
  {
   "cell_type": "markdown",
   "metadata": {},
   "source": [
    "## Latitude vs. Temperature Plot"
   ]
  },
  {
   "cell_type": "code",
   "execution_count": 38,
   "metadata": {
    "scrolled": true
   },
   "outputs": [
    {
     "data": {
      "image/png": "[encoded data removed]",
      "text/plain": [
       "<Figure size 432x288 with 1 Axes>"
      ]
     },
     "metadata": {
      "needs_background": "light"
     },
     "output_type": "display_data"
    }
   ],
   "source": [
    "citydata_df[\"Latitude\"] = citydata_df[\"Latitude\"].astype(float)\n",
    "citydata_df[\"Max Temperature(F)\"] = citydata_df[\"Max Temperature(F)\"].astype(float)\n",
    "citydata_df.plot(kind=\"scatter\", x=\"Latitude\", y=\"Max Temperature(F)\",\n",
    "                 title=\"Latitude vs. Max Temperature Plot\",\n",
    "                 grid=True, figsize=(6,4))\n",
    "plt.show()"
   ]
  },
  {
   "cell_type": "markdown",
   "metadata": {},
   "source": [
    "## Latitude vs. Humidity Plot"
   ]
  },
  {
   "cell_type": "code",
   "execution_count": 39,
   "metadata": {},
   "outputs": [
    {
     "data": {
      "image/png": "[encoded data removed]",
      "text/plain": [
       "<Figure size 432x288 with 1 Axes>"
      ]
     },
     "metadata": {
      "needs_background": "light"
     },
     "output_type": "display_data"
    }
   ],
   "source": [
    "citydata_df[\"Latitude\"] = citydata_df[\"Latitude\"].astype(float)\n",
    "citydata_df[\"Humidity(%)\"] = citydata_df[\"Humidity(%)\"].astype(float)\n",
    "citydata_df.plot(kind=\"scatter\", x=\"Latitude\", y=\"Humidity(%)\",\n",
    "                 title=\"Latitude vs. Humidity(%)\",\n",
    "                 grid=True, figsize=(6,4))\n",
    "plt.show()"
   ]
  },
  {
   "cell_type": "markdown",
   "metadata": {},
   "source": [
    "## Latitude vs. Cloudiness Plot"
   ]
  },
  {
   "cell_type": "code",
   "execution_count": 40,
   "metadata": {},
   "outputs": [
    {
     "data": {
      "image/png": "[encoded data removed]",
      "text/plain": [
       "<Figure size 432x288 with 1 Axes>"
      ]
     },
     "metadata": {
      "needs_background": "light"
     },
     "output_type": "display_data"
    }
   ],
   "source": [
    "citydata_df[\"Latitude\"] = citydata_df[\"Latitude\"].astype(float)\n",
    "citydata_df[\"Cloudiness(%)\"] = citydata_df[\"Cloudiness(%)\"].astype(float)\n",
    "citydata_df.plot(kind=\"scatter\", x=\"Latitude\", y=\"Cloudiness(%)\",\n",
    "                 title=\"Latitude vs. Cloudiness(%)\",\n",
    "                 grid=True, figsize=(6,4))\n",
    "plt.show()"
   ]
  },
  {
   "cell_type": "markdown",
   "metadata": {},
   "source": [
    "## Latitude vs. Wind Speed Plot"
   ]
  },
  {
   "cell_type": "code",
   "execution_count": 42,
   "metadata": {},
   "outputs": [
    {
     "data": {
      "image/png": "[encoded data removed]",
      "text/plain": [
       "<Figure size 432x288 with 1 Axes>"
      ]
     },
     "metadata": {
      "needs_background": "light"
     },
     "output_type": "display_data"
    }
   ],
   "source": [
    "citydata_df[\"Latitude\"] = citydata_df[\"Latitude\"].astype(float)\n",
    "citydata_df[\"Wind Speed(mph)\"] = citydata_df[\"Wind Speed(mph)\"].astype(float)\n",
    "citydata_df.plot(kind=\"scatter\", x=\"Latitude\", y=\"Wind Speed(mph)\",\n",
    "                 title=\"Latitude vs. Wind Speed(mph)\",\n",
    "                 grid=True, figsize=(6,4))\n",
    "plt.show()"
   ]
  },
  {
   "cell_type": "markdown",
   "metadata": {},
   "source": [
    "## Linear Regression"
   ]
  },
  {
   "cell_type": "code",
   "execution_count": null,
   "metadata": {},
   "outputs": [],
   "source": []
  },
  {
   "cell_type": "markdown",
   "metadata": {},
   "source": [
    "####  Northern Hemisphere - Max Temp vs. Latitude Linear Regression"
   ]
  },
  {
   "cell_type": "code",
   "execution_count": null,
   "metadata": {},
   "outputs": [],
   "source": []
  },
  {
   "cell_type": "markdown",
   "metadata": {},
   "source": [
    "####  Southern Hemisphere - Max Temp vs. Latitude Linear Regression"
   ]
  },
  {
   "cell_type": "code",
   "execution_count": null,
   "metadata": {},
   "outputs": [],
   "source": []
  },
  {
   "cell_type": "markdown",
   "metadata": {},
   "source": [
    "####  Northern Hemisphere - Humidity (%) vs. Latitude Linear Regression"
   ]
  },
  {
   "cell_type": "code",
   "execution_count": null,
   "metadata": {},
   "outputs": [],
   "source": []
  },
  {
   "cell_type": "markdown",
   "metadata": {},
   "source": [
    "####  Southern Hemisphere - Humidity (%) vs. Latitude Linear Regression"
   ]
  },
  {
   "cell_type": "code",
   "execution_count": null,
   "metadata": {},
   "outputs": [],
   "source": []
  },
  {
   "cell_type": "markdown",
   "metadata": {},
   "source": [
    "####  Northern Hemisphere - Cloudiness (%) vs. Latitude Linear Regression"
   ]
  },
  {
   "cell_type": "code",
   "execution_count": null,
   "metadata": {},
   "outputs": [],
   "source": []
  },
  {
   "cell_type": "markdown",
   "metadata": {},
   "source": [
    "####  Southern Hemisphere - Cloudiness (%) vs. Latitude Linear Regression"
   ]
  },
  {
   "cell_type": "code",
   "execution_count": null,
   "metadata": {},
   "outputs": [],
   "source": []
  },
  {
   "cell_type": "markdown",
   "metadata": {},
   "source": [
    "####  Northern Hemisphere - Wind Speed (mph) vs. Latitude Linear Regression"
   ]
  },
  {
   "cell_type": "code",
   "execution_count": null,
   "metadata": {},
   "outputs": [],
   "source": []
  },
  {
   "cell_type": "markdown",
   "metadata": {},
   "source": [
    "####  Southern Hemisphere - Wind Speed (mph) vs. Latitude Linear Regression"
   ]
  },
  {
   "cell_type": "code",
   "execution_count": null,
   "metadata": {},
   "outputs": [],
   "source": []
  },
  {
   "cell_type": "code",
   "execution_count": null,
   "metadata": {},
   "outputs": [],
   "source": []
  }
 ],
 "metadata": {
  "anaconda-cloud": {},
  "kernel_info": {
   "name": "python3"
  },
  "kernelspec": {
   "display_name": "Python 3",
   "language": "python",
   "name": "python3"
  },
  "language_info": {
   "codemirror_mode": {
    "name": "ipython",
    "version": 3
   },
   "file_extension": ".py",
   "mimetype": "text/x-python",
   "name": "python",
   "nbconvert_exporter": "python",
   "pygments_lexer": "ipython3",
   "version": "3.8.5"
  },
  "latex_envs": {
   "LaTeX_envs_menu_present": true,
   "autoclose": false,
   "autocomplete": true,
   "bibliofile": "biblio.bib",
   "cite_by": "apalike",
   "current_citInitial": 1,
   "eqLabelWithNumbers": true,
   "eqNumInitial": 1,
   "hotkeys": {
    "equation": "Ctrl-E",
    "itemize": "Ctrl-I"
   },
   "labels_anchors": false,
   "latex_user_defs": false,
   "report_style_numbering": false,
   "user_envs_cfg": false
  },
  "nteract": {
   "version": "0.12.3"
  }
 },
 "nbformat": 4,
 "nbformat_minor": 4
}
