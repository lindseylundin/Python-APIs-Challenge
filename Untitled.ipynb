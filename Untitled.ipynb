{
 "cells": [
  {
   "cell_type": "code",
   "execution_count": null,
   "metadata": {},
   "outputs": [],
   "source": [
    "# Save config information.\n",
    "url = \"http://api.openweathermap.org/data/2.5/weather?\"\n",
    "units = \"imperial\"\n",
    "\n",
    "# Build partial query URL\n",
    "query_url = f\"{url}appid={weather_api_key}&q={city}&units={units}&q=\"\n",
    "\n",
    "# List for holding lat, temp, humidity, clouiness, and wind speed:\n",
    "lat = []\n",
    "temp = []\n",
    "humid = []\n",
    "cloud = []\n",
    "wind = []\n",
    "\n",
    "# Loop through the list of cities and perform a request for data on each\n",
    "for city in cities:\n",
    "    response = requests.get(query_url + city).json()\n",
    "    lat.append(response['coord']['lat'])\n",
    "    temp.append(response['main']['temp'])\n",
    "\n",
    "print(f\"The latitude information received is: {lat}\")\n",
    "print(f\"The temperature information received is: {temp}\")"
   ]
  },
  {
   "cell_type": "code",
   "execution_count": null,
   "metadata": {},
   "outputs": [],
   "source": [
    "# Save config information.\n",
    "url = \"http://api.openweathermap.org/data/2.5/weather?\"\n",
    "units = \"imperial\"\n",
    "\n",
    "# Build query URL\n",
    "query_url = f\"{url}appid={weather_api_key}&q={city}&units={units}\"\n",
    "\n",
    "# List for holding lat, temp, humidity, clouiness, and wind speed:\n",
    "lat = []\n",
    "temp = []\n",
    "humid = []\n",
    "cloud = []\n",
    "wind = []\n",
    "\n",
    "# Loop through the list of cities and perform a request for data on each\n",
    "for city in cities:\n",
    "    weather_response = requests.get(query_url)\n",
    "    weather_json = weather_response.json()\n",
    "    #pprint(weather_json)\n",
    "    temp = weather_json['main']['temp']\n",
    "    pprint(temp)"
   ]
  },
  {
   "cell_type": "code",
   "execution_count": null,
   "metadata": {},
   "outputs": [],
   "source": [
    "    cod = response['cod']\n",
    "    if cod == 200: \n",
    "        i = i + 1\n",
    "        city = response['name']\n",
    "        cloud = response['clouds']['all']\n",
    "        date = response['dt'] \n",
    "        humid = response['main']['humidity']\n",
    "        lat = response['coord']['lat']\n",
    "        long = response['coord']['lon']\n",
    "        temp = response['main']['temp']\n",
    "        wind = response['wind']['speed']\n",
    "        print(f'Processing Record {i} of Set 1 | {city}{cloud}')\n",
    "    else:\n",
    "        print(f'City not found. Skipping...')\n",
    "    \n",
    "print(f'-----------------------------')\n",
    "print(f'Data Retrieval Complete     ')\n",
    "print(f'-----------------------------')\n"
   ]
  },
  {
   "cell_type": "code",
   "execution_count": null,
   "metadata": {},
   "outputs": [],
   "source": [
    "# Save config information.\n",
    "url = \"http://api.openweathermap.org/data/2.5/weather?\"\n",
    "units = \"imperial\"\n",
    "\n",
    "# Build query URL\n",
    "query_url = f\"{url}appid={weather_api_key}&units={units}&q=\"\n",
    "\n",
    "# List for holding lat, temp, humidity, clouiness, and wind speed:\n",
    "\n",
    "lat = []\n",
    "temp = []\n",
    "for city in cities:\n",
    "    response = requests.get(query_url + city).json()\n",
    "    #pprint(response)\n",
    "    lat.append(response)\n",
    "    temp.append(response)\n",
    "pprint(f\"The latitude information received is: {lat}\")"
   ]
  }
 ],
 "metadata": {
  "kernelspec": {
   "display_name": "Python 3",
   "language": "python",
   "name": "python3"
  },
  "language_info": {
   "codemirror_mode": {
    "name": "ipython",
    "version": 3
   },
   "file_extension": ".py",
   "mimetype": "text/x-python",
   "name": "python",
   "nbconvert_exporter": "python",
   "pygments_lexer": "ipython3",
   "version": "3.8.5"
  }
 },
 "nbformat": 4,
 "nbformat_minor": 4
}
